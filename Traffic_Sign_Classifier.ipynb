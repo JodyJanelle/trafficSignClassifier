{
 "cells": [
  {
   "cell_type": "markdown",
   "metadata": {},
   "source": [
    "# Self-Driving Car Engineer Nanodegree\n",
    "\n",
    "## Deep Learning\n",
    "\n",
    "## Project: Build a Traffic Sign Recognition Classifier\n",
    "\n",
    "In this notebook, a template is provided for you to implement your functionality in stages which is required to successfully complete this project. If additional code is required that cannot be included in the notebook, be sure that the Python code is successfully imported and included in your submission, if necessary. Sections that begin with **'Implementation'** in the header indicate where you should begin your implementation for your project. Note that some sections of implementation are optional, and will be marked with **'Optional'** in the header.\n",
    "\n",
    "In addition to implementing code, there will be questions that you must answer which relate to the project and your implementation. Each section where you will answer a question is preceded by a **'Question'** header. Carefully read each question and provide thorough answers in the following text boxes that begin with **'Answer:'**. Your project submission will be evaluated based on your answers to each of the questions and the implementation you provide.\n",
    "\n",
    ">**Note:** Code and Markdown cells can be executed using the **Shift + Enter** keyboard shortcut. In addition, Markdown cells can be edited by typically double-clicking the cell to enter edit mode."
   ]
  },
  {
   "cell_type": "markdown",
   "metadata": {},
   "source": [
    "---\n",
    "## Step 0: Load The Data"
   ]
  },
  {
   "cell_type": "code",
   "execution_count": 1,
   "metadata": {
    "collapsed": false
   },
   "outputs": [
    {
     "name": "stdout",
     "output_type": "stream",
     "text": [
      "(39209,)\n"
     ]
    }
   ],
   "source": [
    "# Load pickled data\n",
    "import pickle\n",
    "import numpy as np\n",
    "\n",
    "# TODO: Fill this in based on where you saved the training and testing data\n",
    "\n",
    "training_file = \"/Users/mcurban/Downloads/traffic-signs-data/train.p\"\n",
    "testing_file = \"/Users/mcurban/Downloads/traffic-signs-data/test.p\"\n",
    "\n",
    "with open(training_file, mode='rb') as f:\n",
    "    train = pickle.load(f)\n",
    "with open(testing_file, mode='rb') as f:\n",
    "    test = pickle.load(f)\n",
    "    \n",
    "X_train, y_train = train['features'], train['labels']\n",
    "X_test, y_test = test['features'], test['labels']"
   ]
  },
  {
   "cell_type": "code",
   "execution_count": null,
   "metadata": {
    "collapsed": false
   },
   "outputs": [],
   "source": []
  },
  {
   "cell_type": "markdown",
   "metadata": {},
   "source": [
    "---\n",
    "\n",
    "## Step 1: Dataset Summary & Exploration\n",
    "\n",
    "The pickled data is a dictionary with 4 key/value pairs:\n",
    "\n",
    "- `'features'` is a 4D array containing raw pixel data of the traffic sign images, (num examples, width, height, channels).\n",
    "- `'labels'` is a 2D array containing the label/class id of the traffic sign. The file `signnames.csv` contains id -> name mappings for each id.\n",
    "- `'sizes'` is a list containing tuples, (width, height) representing the the original width and height the image.\n",
    "- `'coords'` is a list containing tuples, (x1, y1, x2, y2) representing coordinates of a bounding box around the sign in the image. **THESE COORDINATES ASSUME THE ORIGINAL IMAGE. THE PICKLED DATA CONTAINS RESIZED VERSIONS (32 by 32) OF THESE IMAGES**\n",
    "\n",
    "Complete the basic data summary below."
   ]
  },
  {
   "cell_type": "code",
   "execution_count": 2,
   "metadata": {
    "collapsed": false
   },
   "outputs": [
    {
     "name": "stdout",
     "output_type": "stream",
     "text": [
      "Number of training examples = 39209\n",
      "Number of testing examples = 12630\n",
      "Image data shape = (32, 32, 3)\n",
      "Number of classes = 43\n"
     ]
    }
   ],
   "source": [
    "### Replace each question mark with the appropriate value.\n",
    "\n",
    "# TODO: Number of training examples\n",
    "n_train = len(X_train)\n",
    "\n",
    "# TODO: Number of testing examples.\n",
    "n_test = len(X_test)\n",
    "\n",
    "# TODO: What's the shape of an traffic sign image?\n",
    "image_shape = X_train[0].shape\n",
    "\n",
    "# TODO: How many unique classes/labels there are in the dataset.\n",
    "n_classes = np.unique(y_train).shape[0]\n",
    "\n",
    "print(\"Number of training examples =\", n_train)\n",
    "print(\"Number of testing examples =\", n_test)\n",
    "print(\"Image data shape =\", image_shape)\n",
    "print(\"Number of classes =\", n_classes)"
   ]
  },
  {
   "cell_type": "markdown",
   "metadata": {},
   "source": [
    "Visualize the German Traffic Signs Dataset using the pickled file(s). This is open ended, suggestions include: plotting traffic sign images, plotting the count of each sign, etc.\n",
    "\n",
    "The [Matplotlib](http://matplotlib.org/) [examples](http://matplotlib.org/examples/index.html) and [gallery](http://matplotlib.org/gallery.html) pages are a great resource for doing visualizations in Python.\n",
    "\n",
    "**NOTE:** It's recommended you start with something simple first. If you wish to do more, come back to it after you've completed the rest of the sections."
   ]
  },
  {
   "cell_type": "code",
   "execution_count": 3,
   "metadata": {
    "collapsed": false
   },
   "outputs": [
    {
     "name": "stdout",
     "output_type": "stream",
     "text": [
      "24\n"
     ]
    },
    {
     "data": {
      "image/png": "[encoded data removed]",
      "text/plain": [
       "<matplotlib.figure.Figure at 0x10529ca20>"
      ]
     },
     "metadata": {},
     "output_type": "display_data"
    }
   ],
   "source": [
    "### Data exploration visualization goes here.\n",
    "### Feel free to use as many code cells as needed.\n",
    "import matplotlib.pyplot as plt\n",
    "import random\n",
    "\n",
    "# Visualizations will be shown in the notebook.\n",
    "%matplotlib inline\n",
    "\n",
    "index = random.randint(0,len(X_train))\n",
    "image = X_train[index]\n",
    "\n",
    "plt.figure(figsize=(1,1))\n",
    "plt.imshow(image)\n",
    "print(y_train[index])\n",
    "\n"
   ]
  },
  {
   "cell_type": "markdown",
   "metadata": {},
   "source": [
    "----\n",
    "\n",
    "## Step 2: Design and Test a Model Architecture\n",
    "\n",
    "Design and implement a deep learning model that learns to recognize traffic signs. Train and test your model on the [German Traffic Sign Dataset](http://benchmark.ini.rub.de/?section=gtsrb&subsection=dataset).\n",
    "\n",
    "There are various aspects to consider when thinking about this problem:\n",
    "\n",
    "- Neural network architecture\n",
    "- Play around preprocessing techniques (normalization, rgb to grayscale, etc)\n",
    "- Number of examples per label (some have more than others).\n",
    "- Generate fake data.\n",
    "\n",
    "Here is an example of a [published baseline model on this problem](http://yann.lecun.com/exdb/publis/pdf/sermanet-ijcnn-11.pdf). It's not required to be familiar with the approach used in the paper but, it's good practice to try to read papers like these.\n",
    "\n",
    "**NOTE:** The LeNet-5 implementation shown in the [classroom](https://classroom.udacity.com/nanodegrees/nd013/parts/fbf77062-5703-404e-b60c-95b78b2f3f9e/modules/6df7ae49-c61c-4bb2-a23e-6527e69209ec/lessons/601ae704-1035-4287-8b11-e2c2716217ad/concepts/d4aca031-508f-4e0b-b493-e7b706120f81) at the end of the CNN lesson is a solid starting point. You'll have to change the number of classes and possibly the preprocessing, but aside from that it's plug and play!"
   ]
  },
  {
   "cell_type": "markdown",
   "metadata": {},
   "source": [
    "### Implementation\n",
    "\n",
    "Use the code cell (or multiple code cells, if necessary) to implement the first step of your project. Once you have completed your implementation and are satisfied with the results, be sure to thoroughly answer the questions that follow."
   ]
  },
  {
   "cell_type": "code",
   "execution_count": 4,
   "metadata": {
    "collapsed": false
   },
   "outputs": [
    {
     "name": "stdout",
     "output_type": "stream",
     "text": [
      "117627\n",
      "117627\n",
      "done with implementation\n"
     ]
    },
    {
     "data": {
      "image/png": "[encoded data removed]",
      "text/plain": [
       "<matplotlib.figure.Figure at 0x121a467f0>"
      ]
     },
     "metadata": {},
     "output_type": "display_data"
    },
    {
     "data": {
      "image/png": "[encoded data removed]",
      "text/plain": [
       "<matplotlib.figure.Figure at 0x12f439cc0>"
      ]
     },
     "metadata": {},
     "output_type": "display_data"
    }
   ],
   "source": [
    "### Preprocess the data here.\n",
    "import tensorflow as tf\n",
    "\n",
    "EPOCHS = 20\n",
    "BATCH_SIZE = 128\n",
    "\n",
    "from sklearn.utils import shuffle\n",
    "import cv2\n",
    "import numpy as np\n",
    "\n",
    "more_data = np.zeros(shape=(X_train.shape[0]*3,X_train.shape[1],X_train.shape[2],3))\n",
    "more_labels = np.zeros(y_train.shape[0]*3)\n",
    "for i in range(0,len(X_train)):\n",
    "    more_data[3*i] = X_train[i]\n",
    "    kernel = np.ones((2,2),np.float32)/4\n",
    "    more_data[3*i+1] = cv2.filter2D(X_train[i],-1,kernel)\n",
    "    kernel2 = np.ones((3,3),np.float32)/9\n",
    "    more_data[3*i+2] = cv2.filter2D(X_train[i],-1,kernel2)\n",
    "\n",
    "    more_labels[3*i] = y_train[i]\n",
    "    more_labels[3*i+1] = y_train[i]\n",
    "    more_labels[3*i+2] = y_train[i]\n",
    "    \n",
    "plt.figure(figsize=(1,1))\n",
    "plt.imshow(more_data[0])\n",
    "plt.figure(figsize=(1,1))\n",
    "plt.imshow(more_data[1])\n",
    "\n",
    "print(len(more_data))\n",
    "print(len(more_labels))\n",
    "\n",
    "#X_train, y_train = shuffle(X_train, y_train)\n",
    "\n",
    "from tensorflow.contrib.layers import flatten\n",
    "mu = 0\n",
    "sigma = 0.1\n",
    "layer5_biases = tf.Variable(tf.constant(1.0, shape=[43]))\n",
    "fc3_W  = tf.Variable(tf.truncated_normal(shape=(84, 43), mean = mu, stddev = sigma))\n",
    "fc2_W  = tf.Variable(tf.truncated_normal(shape=(120, 84), mean = mu, stddev = sigma))\n",
    "fc2_b  = tf.Variable(tf.constant(1.0, shape=[84]))\n",
    "fc1_W = tf.Variable(tf.truncated_normal(shape=(400, 120), mean = mu, stddev = sigma))\n",
    "fc1_b = tf.Variable(tf.constant(1.0, shape=[120]))\n",
    "epsilon = 1e-3\n",
    "conv2_W = tf.Variable(tf.truncated_normal(shape=(5, 5, 6, 16), mean = mu, stddev = sigma))\n",
    "conv2_b = tf.Variable(tf.constant(0.0, shape=[16]))\n",
    "conv1_W = tf.Variable(tf.truncated_normal(shape=(5, 5, 3, 6), mean = mu, stddev = sigma))\n",
    "conv1_b = tf.Variable(tf.constant(0.0, shape=[6]))\n",
    "scale1 = tf.Variable(tf.ones([120]))\n",
    "offset1 = tf.Variable(tf.zeros([120]))\n",
    "scale2 = tf.Variable(tf.ones([84]))\n",
    "offset2 = tf.Variable(tf.zeros([84]))\n",
    "\n",
    "def LeNet(x):    \n",
    "    # Hyperparameters\n",
    "\n",
    "    # SOLUTION: Layer 1: Convolutional. Input = 32x32x1. Output = 28x28x6.\n",
    "    conv1   = tf.nn.conv2d(x, conv1_W, strides=[1, 1, 1, 1], padding='VALID') + conv1_b\n",
    "\n",
    "    # SOLUTION: Activation.\n",
    "    conv1 = tf.nn.relu(conv1)\n",
    "\n",
    "    # SOLUTION: Pooling. Input = 28x28x6. Output = 14x14x6.\n",
    "    conv1 = tf.nn.max_pool(conv1, ksize=[1, 2, 2, 1], strides=[1, 2, 2, 1], padding='VALID')\n",
    "\n",
    "    # SOLUTION: Layer 2: Convolutional. Output = 10x10x16.\n",
    "    conv2   = tf.nn.conv2d(conv1, conv2_W, strides=[1, 1, 1, 1], padding='VALID') + conv2_b\n",
    "    \n",
    "    # SOLUTION: Activation.\n",
    "    conv2 = tf.nn.relu(conv2)\n",
    "\n",
    "    # SOLUTION: Pooling. Input = 10x10x16. Output = 5x5x16.\n",
    "    conv2 = tf.nn.max_pool(conv2, ksize=[1, 2, 2, 1], strides=[1, 2, 2, 1], padding='VALID')\n",
    "\n",
    "    # SOLUTION: Flatten. Input = 5x5x16. Output = 400.\n",
    "    fc0   = flatten(conv2)\n",
    "    \n",
    "    # SOLUTION: Layer 3: Fully Connected. Input = 400. Output = 120.\n",
    "    fc1   = tf.matmul(fc0, fc1_W)\n",
    "    mean1, variance1 = tf.nn.moments(fc1,[0])\n",
    "    \n",
    "    fc1_normal = tf.nn.batch_normalization(fc1,mean1,variance1,offset1,scale1,epsilon)\n",
    "    \n",
    "    # SOLUTION: Activation.\n",
    "    fc1    = tf.nn.relu(fc1_normal)\n",
    "   # fc1 = tf.nn.dropout(fc1, 0.9)\n",
    "\n",
    "    # SOLUTION: Layer 4: Fully Connected. Input = 120. Output = 84.\n",
    "    fc2    = tf.matmul(fc1, fc2_W)\n",
    "    mean2,variance2 = tf.nn.moments(fc2,[0])\n",
    "    fc2_normal = tf.nn.batch_normalization(fc2,mean2,variance2,offset2,scale2,epsilon)\n",
    "    \n",
    "    # SOLUTION: Activation.\n",
    "    fc2    = tf.nn.relu(fc2)\n",
    "    #fc2 = tf.nn.dropout(fc2, 0.8)\n",
    "    # SOLUTION: Layer 5: Fully Connected. Input = 84. Output = 10.\n",
    "    logits = tf.matmul(fc2, fc3_W) + layer5_biases\n",
    "    \n",
    "    return logits\n",
    "\n",
    "print(\"done with implementation\")"
   ]
  },
  {
   "cell_type": "markdown",
   "metadata": {},
   "source": [
    "### Question 1 \n",
    "\n",
    "_Describe how you preprocessed the data. Why did you choose that technique?_"
   ]
  },
  {
   "cell_type": "markdown",
   "metadata": {},
   "source": [
    "**Answer:**\n",
    "I tried different methods of preprocessing to see what the outputs might be(more of a trial and error).\n",
    "I began with changing the colors(bgr2hsv, bgr2gray) but the result were so bad that I abandoned the idea completetly.\n",
    "\n",
    "Than I tried some normalization methods. The Local Response Normalization resulted in some dissapointing results,\n",
    "but the batch_normalization gave me some promising results. I used it only on one layer."
   ]
  },
  {
   "cell_type": "code",
   "execution_count": null,
   "metadata": {
    "collapsed": true
   },
   "outputs": [],
   "source": []
  },
  {
   "cell_type": "code",
   "execution_count": 5,
   "metadata": {
    "collapsed": false
   },
   "outputs": [
    {
     "name": "stdout",
     "output_type": "stream",
     "text": [
      "(32, 32, 3)\n"
     ]
    }
   ],
   "source": [
    "### Generate data additional data (OPTIONAL!)\n",
    "### and split the data into training/validation/testing sets here.\n",
    "### Feel free to use as many code cells as needed.\n",
    "\n",
    "from sklearn.model_selection import train_test_split\n",
    "\n",
    "X_train, X_validation, y_train, y_validation = train_test_split(X_train,y_train,test_size=0.2,random_state=0)\n",
    "print(X_train[0].shape)"
   ]
  },
  {
   "cell_type": "markdown",
   "metadata": {},
   "source": [
    "### Question 2\n",
    "\n",
    "_Describe how you set up the training, validation and testing data for your model. **Optional**: If you generated additional data, how did you generate the data? Why did you generate the data? What are the differences in the new dataset (with generated data) from the original dataset?_"
   ]
  },
  {
   "cell_type": "markdown",
   "metadata": {},
   "source": [
    "**Answer:**\n",
    "I tried different optimizers, but after some attempts(especially with the GradientDescent) \n",
    "\n",
    "I set up a validation set of 20%.\n",
    "When I was running the training in early stages(after trying changing the colors and before batch_normalization)\n",
    "I noticed that the accuracy was still growing, so I was curious to see what would happen if I had more data so I doubled initially every image. The results were great: I was able to grow from 85-86%(test) to around 90%. \n",
    "So I tried to work other type of additional data: Instead of just adding the same image, I tried at first with bgr2hsv which I expected after I saw what happened when I used that method for preprocessing. After that I added some blur on the second image, which gave a slight increase in accuracy(both validation and test sets)\n",
    "After I added the batch_normalization I grew up to 92-93%.\n",
    "In the end I ended up with tripling the data."
   ]
  },
  {
   "cell_type": "code",
   "execution_count": null,
   "metadata": {
    "collapsed": true
   },
   "outputs": [],
   "source": []
  },
  {
   "cell_type": "code",
   "execution_count": 6,
   "metadata": {
    "collapsed": true
   },
   "outputs": [],
   "source": [
    "### Define your architecture here.\n",
    "### Feel free to use as many code cells as needed."
   ]
  },
  {
   "cell_type": "markdown",
   "metadata": {},
   "source": [
    "### Question 3\n",
    "\n",
    "_What does your final architecture look like? (Type of model, layers, sizes, connectivity, etc.)  For reference on how to build a deep neural network using TensorFlow, see [Deep Neural Network in TensorFlow\n",
    "](https://classroom.udacity.com/nanodegrees/nd013/parts/fbf77062-5703-404e-b60c-95b78b2f3f9e/modules/6df7ae49-c61c-4bb2-a23e-6527e69209ec/lessons/b516a270-8600-4f93-a0a3-20dfeabe5da6/concepts/83a3a2a2-a9bd-4b7b-95b0-eb924ab14432) from the classroom._\n"
   ]
  },
  {
   "cell_type": "markdown",
   "metadata": {},
   "source": [
    "**Answer:**\n",
    "\n",
    "I decided to stay with the LeNet Architecture. I didn't modify the architecture because I had some good results with the modifications that I made. If I didn't have any success in improving my model, than I would have tried other architectures. I noticed that droput didn't help that much, so I assume that my network is too small. That one thing that I will try to do.\n",
    "**Review: The reason why I didn't provide more details because I used the LeNet Architecture like in the LeNet Lab.\n",
    "\n",
    "Architecture Layer 1: Convolutional. The output shape should be 28x28x6. Activation. I used relu activation Pooling. The output shape should be 14x14x6. \n",
    "Layer 2: Convolutional. The output shape should be 10x10x16. Activation. I used relu activation Pooling. The output shape should be 5x5x16. Flatten. Flatten the output shape of the final pooling layer such that it's 1D instead of 3D. Layer 3: Fully Connected. This should have 120 outputs. Activation. I used relu activation \n",
    "Layer 4: Fully Connected. This should have 84 outputs. Activation. I used relu activation \n",
    "Layer 5: Fully Connected (Logits). This should have 43 outputs"
   ]
  },
  {
   "cell_type": "code",
   "execution_count": 7,
   "metadata": {
    "collapsed": false
   },
   "outputs": [
    {
     "name": "stdout",
     "output_type": "stream",
     "text": [
      "Training...\n",
      "\n",
      "EPOCH 1 ...\n",
      "Validation Accuracy = 0.966\n",
      "\n",
      "EPOCH 2 ...\n",
      "Validation Accuracy = 0.987\n",
      "\n",
      "EPOCH 3 ...\n",
      "Validation Accuracy = 0.993\n",
      "\n",
      "EPOCH 4 ...\n",
      "Validation Accuracy = 0.995\n",
      "\n",
      "EPOCH 5 ...\n",
      "Validation Accuracy = 0.997\n",
      "\n",
      "EPOCH 6 ...\n",
      "Validation Accuracy = 0.996\n",
      "\n",
      "EPOCH 7 ...\n",
      "Validation Accuracy = 0.998\n",
      "\n",
      "EPOCH 8 ...\n",
      "Validation Accuracy = 0.998\n",
      "\n",
      "EPOCH 9 ...\n",
      "Validation Accuracy = 0.996\n",
      "\n",
      "EPOCH 10 ...\n",
      "Validation Accuracy = 0.997\n",
      "\n",
      "EPOCH 11 ...\n",
      "Validation Accuracy = 0.998\n",
      "\n",
      "EPOCH 12 ...\n",
      "Validation Accuracy = 0.999\n",
      "\n",
      "EPOCH 13 ...\n",
      "Validation Accuracy = 0.997\n",
      "\n",
      "EPOCH 14 ...\n",
      "Validation Accuracy = 0.999\n",
      "\n",
      "EPOCH 15 ...\n",
      "Validation Accuracy = 0.999\n",
      "\n",
      "EPOCH 16 ...\n",
      "Validation Accuracy = 0.998\n",
      "\n",
      "EPOCH 17 ...\n",
      "Validation Accuracy = 0.997\n",
      "\n",
      "EPOCH 18 ...\n",
      "Validation Accuracy = 0.999\n",
      "\n",
      "EPOCH 19 ...\n",
      "Validation Accuracy = 0.999\n",
      "\n",
      "EPOCH 20 ...\n",
      "Validation Accuracy = 0.999\n",
      "\n",
      "Model saved\n"
     ]
    }
   ],
   "source": [
    "### Train your model here.\n",
    "\n",
    "x = tf.placeholder(tf.float32, (None, 32, 32,3))\n",
    "y = tf.placeholder(tf.int32, (None))\n",
    "one_hot_y = tf.one_hot(y, 43)\n",
    "\n",
    "rate = 0.001\n",
    "\n",
    "logits = LeNet(x)\n",
    "cross_entropy = tf.nn.softmax_cross_entropy_with_logits(logits, one_hot_y)\n",
    "loss_operation = tf.reduce_mean(cross_entropy)\n",
    "optimizer = tf.train.AdamOptimizer(learning_rate = rate)\n",
    "training_operation = optimizer.minimize(loss_operation)\n",
    "\n",
    "correct_prediction = tf.equal(tf.argmax(logits, 1), tf.argmax(one_hot_y, 1))\n",
    "accuracy_operation = tf.reduce_mean(tf.cast(correct_prediction, tf.float32))\n",
    "saver = tf.train.Saver()\n",
    "\n",
    "def evaluate(X_data, y_data):\n",
    "    num_examples = len(X_data)\n",
    "    total_accuracy = 0\n",
    "    sess = tf.get_default_session()\n",
    "    for offset in range(0, num_examples, BATCH_SIZE):\n",
    "        batch_x, batch_y = X_data[offset:offset+BATCH_SIZE], y_data[offset:offset+BATCH_SIZE]\n",
    "        accuracy = sess.run(accuracy_operation, feed_dict={x: batch_x, y: batch_y})\n",
    "        total_accuracy += (accuracy * len(batch_x))\n",
    "    return total_accuracy / num_examples\n",
    "\n",
    "with tf.Session() as sess:\n",
    "    sess.run(tf.global_variables_initializer())\n",
    "    num_examples = len(more_data)\n",
    "    \n",
    "    print(\"Training...\")\n",
    "    print()\n",
    "    for i in range(EPOCHS):\n",
    "        X_train, y_train = shuffle(more_data, more_labels)\n",
    "        for offset in range(0, num_examples, BATCH_SIZE):\n",
    "            end = offset + BATCH_SIZE\n",
    "            batch_x, batch_y = X_train[offset:end], y_train[offset:end]\n",
    "            sess.run(training_operation, feed_dict={x: batch_x, y: batch_y})\n",
    "            \n",
    "        validation_accuracy = evaluate(X_validation, y_validation)\n",
    "        print(\"EPOCH {} ...\".format(i+1))\n",
    "        print(\"Validation Accuracy = {:.3f}\".format(validation_accuracy))\n",
    "        print()\n",
    "        \n",
    "    saver.save(sess, \"/Users/mcurban/Downloads/traffic-signs-data/model.ckpt\")\n",
    "    print(\"Model saved\")\n",
    "    \n",
    "\n",
    "### Feel free to use as many code cells as needed."
   ]
  },
  {
   "cell_type": "code",
   "execution_count": 8,
   "metadata": {
    "collapsed": false
   },
   "outputs": [
    {
     "name": "stdout",
     "output_type": "stream",
     "text": [
      "Test Accuracy = 0.937\n",
      "[16  1 38 ...,  6  7 10]\n",
      "12630\n"
     ]
    }
   ],
   "source": [
    "with tf.Session() as sess:\n",
    "    saver.restore(sess,\"/Users/mcurban/Downloads/traffic-signs-data/model.ckpt\")\n",
    "\n",
    "    test_accuracy = evaluate(X_test, y_test)\n",
    "    print(\"Test Accuracy = {:.3f}\".format(test_accuracy))\n",
    "    print(y_test)\n",
    "    print(len(y_test))"
   ]
  },
  {
   "cell_type": "markdown",
   "metadata": {},
   "source": [
    "### Question 4\n",
    "\n",
    "_How did you train your model? (Type of optimizer, batch size, epochs, hyperparameters, etc.)_\n",
    "\n",
    "\n",
    "**Here is where I described my usage of GradientDescent**\n",
    "I tried different optimizers, but after some attempts(especially with the GradientDescent) I came back to where I started. Batch Size = 128 I had some good results with 64 but in general it was better with 128 epochs = 20 Before adding any additional data I used only 10, but after that I moved toward 20,30,40 finally deciding to 20.\n",
    "\n",
    "**I mentioned above that my model would suffer from overfitting and I didn't want o repeat myself too much. That's why I tried dropout.**\n",
    "Relu activation worked out the best for me. I tried with dropout but I didn't have much success."
   ]
  },
  {
   "cell_type": "markdown",
   "metadata": {},
   "source": [
    "**Answer:**"
   ]
  },
  {
   "cell_type": "markdown",
   "metadata": {},
   "source": [
    "### Question 5\n",
    "\n",
    "\n",
    "_What approach did you take in coming up with a solution to this problem? It may have been a process of trial and error, in which case, outline the steps you took to get to the final solution and why you chose those steps. Perhaps your solution involved an already well known implementation or architecture. In this case, discuss why you think this is suitable for the current problem._"
   ]
  },
  {
   "cell_type": "markdown",
   "metadata": {},
   "source": [
    "**Answer:**\n",
    "\n",
    "In most parts it was a process of trial and error based on the advices from the classroom(normalization,dropout etc) and hints from this notebook(adding data)\n",
    "As I said before, my steps looked something like this(I might not remember everything exactly, because I tried a lot of different things):\n",
    "\n",
    "1. I played around with the colors => no success\n",
    "2. I modified the weights and biases => some success\n",
    "3. I used different optimizers/learning rates => not much of a success. I came back to AdamOptimizer with 0.001 learning rate\n",
    "4. I added more data => I saw a lot of improvement.\n",
    "5. I tried LRN => I was dissapointed.\n",
    "6. Seeing that I cannot figure it out the weights and biases for some big improvement I decided to use batch_normalization.\n",
    "7. I tried to prevent overfitting using dropout but wasn't very useful, which means that I would have to modify my architecture a little bit.\n",
    "8. I didn't know exactly how much data should I add, and the batch_size and epochs. I tried different combinations to find the optimum solution."
   ]
  },
  {
   "cell_type": "markdown",
   "metadata": {},
   "source": [
    "---\n",
    "\n",
    "## Step 3: Test a Model on New Images\n",
    "\n",
    "Take several pictures of traffic signs that you find on the web or around you (at least five), and run them through your classifier on your computer to produce example results. The classifier might not recognize some local signs but it could prove interesting nonetheless.\n",
    "\n",
    "You may find `signnames.csv` useful as it contains mappings from the class id (integer) to the actual sign name."
   ]
  },
  {
   "cell_type": "markdown",
   "metadata": {},
   "source": [
    "### Implementation\n",
    "\n",
    "Use the code cell (or multiple code cells, if necessary) to implement the first step of your project. Once you have completed your implementation and are satisfied with the results, be sure to thoroughly answer the questions that follow."
   ]
  },
  {
   "cell_type": "code",
   "execution_count": 12,
   "metadata": {
    "collapsed": false
   },
   "outputs": [
    {
     "name": "stdout",
     "output_type": "stream",
     "text": [
      "predicted labels 1\n",
      "predicted labels 13\n",
      "predicted labels 17\n",
      "predicted labels 11\n",
      "predicted labels 14\n",
      "Correct labels [7, 13, 17, 11, 14]\n"
     ]
    },
    {
     "data": {
      "image/png": "[encoded data removed]",
      "text/plain": [
       "<matplotlib.figure.Figure at 0x1df5ddeb8>"
      ]
     },
     "metadata": {},
     "output_type": "display_data"
    },
    {
     "data": {
      "image/png": "[encoded data removed]",
      "text/plain": [
       "<matplotlib.figure.Figure at 0x10b1c5a90>"
      ]
     },
     "metadata": {},
     "output_type": "display_data"
    },
    {
     "data": {
      "image/png": "[encoded data removed]",
      "text/plain": [
       "<matplotlib.figure.Figure at 0x10b111b00>"
      ]
     },
     "metadata": {},
     "output_type": "display_data"
    },
    {
     "data": {
      "image/png": "[encoded data removed]",
      "text/plain": [
       "<matplotlib.figure.Figure at 0x10b66cfd0>"
      ]
     },
     "metadata": {},
     "output_type": "display_data"
    },
    {
     "data": {
      "image/png": "[encoded data removed]",
      "text/plain": [
       "<matplotlib.figure.Figure at 0x10b3d94e0>"
      ]
     },
     "metadata": {},
     "output_type": "display_data"
    }
   ],
   "source": [
    "### Load the images and plot them here.\n",
    "\n",
    " # uses the Image module (PIL)\n",
    "\n",
    "import matplotlib.pyplot as plt\n",
    "import matplotlib.image as mpimg\n",
    "import numpy as np\n",
    "test_imgs = np.uint8(np.zeros((5,32,32,3)))\n",
    "%matplotlib inline\n",
    "y_pred = [7,13,17,11,14]\n",
    "def getImage(x):\n",
    "    img = mpimg.imread('/Users/mcurban/Downloads/traffic-signs-data/{}.png' .format(x+1))\n",
    "    img = (img * 255).round().astype(np.uint8)\n",
    "    r, g, b= img[:,:,0], img[:,:,1], img[:,:,2]\n",
    "    test_imgs[x][:,:,0] = r \n",
    "    test_imgs[x][:,:,1] = g\n",
    "    test_imgs[x][:,:,2] = b\n",
    "    plt.figure(figsize=(1,1))\n",
    "    plt.imshow(test_imgs[x])\n",
    "    \n",
    "for i in range(0,5):\n",
    "    getImage(i)\n",
    "\n",
    "with tf.Session() as sess:\n",
    "    sess.run(tf.global_variables_initializer())\n",
    "    saver.restore(sess,\"/Users/mcurban/Downloads/traffic-signs-data/model.ckpt\")\n",
    "    data_placeholder = tf.placeholder(tf.float32, [5,32, 32, 3])\n",
    "    predictions = tf.nn.softmax(LeNet(data_placeholder))\n",
    "    val = sess.run(predictions, feed_dict={data_placeholder: test_imgs})\n",
    "    top_k = sess.run(tf.nn.top_k(val, 5, sorted=True))\n",
    "    for i in range(0,5):\n",
    "        print(\"predicted labels\",top_k[1][i][0])\n",
    "    print(\"Correct labels\",y_pred)\n",
    "\n",
    "### Feel free to use as many code cells as needed."
   ]
  },
  {
   "cell_type": "markdown",
   "metadata": {},
   "source": [
    "### Question 6\n",
    "\n",
    "_Choose five candidate images of traffic signs and provide them in the report. Are there any particular qualities of the image(s) that might make classification difficult? It could be helpful to plot the images in the notebook._\n",
    "\n"
   ]
  },
  {
   "cell_type": "markdown",
   "metadata": {},
   "source": [
    "**Answer:**\n",
    "I tested only 5 images. The speed limit signs are very similar between them, so that's why I choose one of them and my model failed in that case.\n",
    "1. The speed limits are very similar between them(one red circle and a white circle, with 0's inside of it)\n",
    "2. I also put a local US yield sign, because there was a little difference between the German and US one(there is a yield label on the US one).\n",
    "3. I can't think of any reason why this sign might not be recognized. It is from another country, but I don't think there is any difference between them. Another thing with it is that is not taken from the street but from a book.\n",
    "4. I also had some doubts about the right of way sign just because there are a lot warning signs like this\n",
    "5. The same thing as at #3. This is a little bit blurry and has some text in the middle."
   ]
  },
  {
   "cell_type": "code",
   "execution_count": 10,
   "metadata": {
    "collapsed": true
   },
   "outputs": [],
   "source": [
    "### Run the predictions here.\n",
    "### Feel free to use as many code cells as needed."
   ]
  },
  {
   "cell_type": "markdown",
   "metadata": {},
   "source": [
    "### Question 7\n",
    "\n",
    "_Is your model able to perform equally well on captured pictures when compared to testing on the dataset? The simplest way to do this check the accuracy of the predictions. For example, if the model predicted 1 out of 5 signs correctly, it's 20% accurate._\n",
    "\n",
    "_**NOTE:** You could check the accuracy manually by using `signnames.csv` (same directory). This file has a mapping from the class id (0-42) to the corresponding sign name. So, you could take the class id the model outputs, lookup the name in `signnames.csv` and see if it matches the sign from the image._\n"
   ]
  },
  {
   "cell_type": "markdown",
   "metadata": {},
   "source": [
    "**Answer:**\n",
    "I got 80%. Probably I would need more images to get a more accurate percentage and see exactly where I am, but at first look I think my model did pretty well.\n",
    "The yield sign is from USA actually. There is a small difference between the US sign and the german(the US has a \"yield\" label)."
   ]
  },
  {
   "cell_type": "code",
   "execution_count": 13,
   "metadata": {
    "collapsed": false
   },
   "outputs": [
    {
     "name": "stdout",
     "output_type": "stream",
     "text": [
      "\n",
      "\n",
      "image: 1\n",
      "probability: [  9.99980211e-01   1.60366035e-05   2.84609541e-06   7.52354424e-07\n",
      "   9.90307853e-08]\n",
      "indices: [ 1  2  4  7 18]\n",
      "\n",
      "predicted at number: 3\n",
      "\n",
      "\n",
      "image: 2\n",
      "probability: [  9.99543071e-01   4.53718501e-04   2.60008710e-06   2.74978134e-07\n",
      "   1.96922670e-07]\n",
      "indices: [13  6 38 10 34]\n",
      "\n",
      "predicted at number: 0\n",
      "\n",
      "\n",
      "image: 3\n",
      "probability: [  1.00000000e+00   2.73990737e-13   4.82667698e-14   2.26613060e-14\n",
      "   9.19937242e-15]\n",
      "indices: [17  2 22 23 11]\n",
      "\n",
      "predicted at number: 0\n",
      "\n",
      "\n",
      "image: 4\n",
      "probability: [  9.99665141e-01   1.89259081e-04   7.82311836e-05   6.09420822e-05\n",
      "   3.25774022e-06]\n",
      "indices: [11 26 40 30 12]\n",
      "\n",
      "predicted at number: 0\n",
      "\n",
      "\n",
      "image: 5\n",
      "probability: [ 0.96222752  0.01065618  0.00920571  0.00571261  0.00522173]\n",
      "indices: [14 29  7  3 25]\n",
      "\n",
      "predicted at number: 0\n"
     ]
    }
   ],
   "source": [
    "### Visualize the softmax probabilities here.\n",
    "\n",
    "for i in range(0,5):\n",
    "    print(\"\\n\\nimage:\", i+1)\n",
    "    print(\"probability:\",top_k[0][i])\n",
    "    print(\"indices:\",top_k[1][i])\n",
    "    found = 0\n",
    "    for j in range(0,len(top_k[0][i])):\n",
    "        if y_pred[i] == top_k[1][i][j]:\n",
    "            print(\"\\npredicted at number:\",j)\n",
    "            found =1\n",
    "    if found == 0:\n",
    "        print(\"\\nnot found in top 5\")\n",
    "\n",
    "\n",
    "### Feel free to use as many code cells as needed."
   ]
  },
  {
   "cell_type": "markdown",
   "metadata": {},
   "source": [
    "### Question 8\n",
    "\n",
    "*Use the model's softmax probabilities to visualize the **certainty** of its predictions, [`tf.nn.top_k`](https://www.tensorflow.org/versions/r0.12/api_docs/python/nn.html#top_k) could prove helpful here. Which predictions is the model certain of? Uncertain? If the model was incorrect in its initial prediction, does the correct prediction appear in the top k? (k should be 5 at most)*\n",
    "\n",
    "`tf.nn.top_k` will return the values and indices (class ids) of the top k predictions. So if k=3, for each sign, it'll return the 3 largest probabilities (out of a possible 43) and the correspoding class ids.\n",
    "\n",
    "Take this numpy array as an example:\n",
    "\n",
    "```\n",
    "# (5, 6) array\n",
    "a = np.array([[ 0.24879643,  0.07032244,  0.12641572,  0.34763842,  0.07893497,\n",
    "         0.12789202],\n",
    "       [ 0.28086119,  0.27569815,  0.08594638,  0.0178669 ,  0.18063401,\n",
    "         0.15899337],\n",
    "       [ 0.26076848,  0.23664738,  0.08020603,  0.07001922,  0.1134371 ,\n",
    "         0.23892179],\n",
    "       [ 0.11943333,  0.29198961,  0.02605103,  0.26234032,  0.1351348 ,\n",
    "         0.16505091],\n",
    "       [ 0.09561176,  0.34396535,  0.0643941 ,  0.16240774,  0.24206137,\n",
    "         0.09155967]])\n",
    "```\n",
    "\n",
    "Running it through `sess.run(tf.nn.top_k(tf.constant(a), k=3))` produces:\n",
    "\n",
    "```\n",
    "TopKV2(values=array([[ 0.34763842,  0.24879643,  0.12789202],\n",
    "       [ 0.28086119,  0.27569815,  0.18063401],\n",
    "       [ 0.26076848,  0.23892179,  0.23664738],\n",
    "       [ 0.29198961,  0.26234032,  0.16505091],\n",
    "       [ 0.34396535,  0.24206137,  0.16240774]]), indices=array([[3, 0, 5],\n",
    "       [0, 1, 4],\n",
    "       [0, 5, 1],\n",
    "       [1, 3, 5],\n",
    "       [1, 4, 3]], dtype=int32))\n",
    "```\n",
    "\n",
    "Looking just at the first row we get `[ 0.34763842,  0.24879643,  0.12789202]`, you can confirm these are the 3 largest probabilities in `a`. You'll also notice `[3, 0, 5]` are the corresponding indices."
   ]
  },
  {
   "cell_type": "markdown",
   "metadata": {},
   "source": [
    "**Answer:**\n",
    "\n",
    "The model is certain of all the images but the first one which is at number 4. Actually the model is certain that the image is 30 limit sign\n",
    "\n",
    "The model is certain of all the images but the first one which is at number 4. Actually the model is certain that the image is 30 limit sign\n",
    "** The softmax probabilities are printed above There are 3 lines:**\n",
    "the number of the image\n",
    "the top 5 predictions. they are sorted.\n",
    "indices of those predictions\n",
    "The code cell was placed before the question(I didn't move it, that's where it was from the beggining), so probably that's why you missed."
   ]
  },
  {
   "cell_type": "markdown",
   "metadata": {},
   "source": [
    "> **Note**: Once you have completed all of the code implementations and successfully answered each question above, you may finalize your work by exporting the iPython Notebook as an HTML document. You can do this by using the menu above and navigating to  \\n\",\n",
    "    \"**File -> Download as -> HTML (.html)**. Include the finished document along with this notebook as your submission."
   ]
  },
  {
   "cell_type": "code",
   "execution_count": null,
   "metadata": {
    "collapsed": true
   },
   "outputs": [],
   "source": []
  }
 ],
 "metadata": {
  "anaconda-cloud": {},
  "kernelspec": {
   "display_name": "Python 3",
   "language": "python",
   "name": "python3"
  },
  "language_info": {
   "codemirror_mode": {
    "name": "ipython",
    "version": 3
   },
   "file_extension": ".py",
   "mimetype": "text/x-python",
   "name": "python",
   "nbconvert_exporter": "python",
   "pygments_lexer": "ipython3",
   "version": "3.5.2"
  },
  "widgets": {
   "state": {},
   "version": "1.1.2"
  }
 },
 "nbformat": 4,
 "nbformat_minor": 1
}
